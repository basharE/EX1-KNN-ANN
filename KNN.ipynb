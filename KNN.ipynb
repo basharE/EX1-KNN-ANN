{
 "cells": [
  {
   "cell_type": "code",
   "execution_count": 202,
   "metadata": {},
   "outputs": [
    {
     "ename": "SyntaxError",
     "evalue": "invalid syntax (<ipython-input-202-e1466acfa21e>, line 45)",
     "output_type": "error",
     "traceback": [
      "\u001b[0;36m  File \u001b[0;32m\"<ipython-input-202-e1466acfa21e>\"\u001b[0;36m, line \u001b[0;32m45\u001b[0m\n\u001b[0;31m    point_name_dis = {'point_name': point_name, \"k_neighbors\":['NN_name': new_point_n, 'distance': dis]}\u001b[0m\n\u001b[0m                                                                        ^\u001b[0m\n\u001b[0;31mSyntaxError\u001b[0m\u001b[0;31m:\u001b[0m invalid syntax\n"
     ]
    }
   ],
   "source": [
    "import pandas as pd\n",
    "import numpy as np\n",
    "\n",
    "\n",
    "def euclidean_distance(point1, point2):\n",
    "    point1_ = np.array(point1)\n",
    "    point2_ = np.array(point2)\n",
    "\n",
    "    # calculating Euclidean distance\n",
    "    # using linalg.norm()\n",
    "    dist = np.linalg.norm(point1_ - point2_)\n",
    "\n",
    "    # return Euclidean distance\n",
    "    return dist\n",
    "\n",
    "\n",
    "def my_func(list_):\n",
    "    return list_['distance']\n",
    "\n",
    "\n",
    "class KNN:\n",
    "    def __init__(self, k):\n",
    "        self.internal_list = []\n",
    "        self.k = k\n",
    "\n",
    "    def fit(self, data_path):\n",
    "        # reading CSV file\n",
    "        data = pd.read_csv(data_path)\n",
    "        the_list = data.iloc[0:, 0:132]\n",
    "        self.internal_list = the_list.values.tolist()\n",
    "\n",
    "    def k_neighbors(self, new_points):\n",
    "        neighbors_list = []\n",
    "        for point in new_points:\n",
    "            neighbors_list.append(self.point_k_neighbors(point[4:132],point[0:4]))\n",
    "        return neighbors_list\n",
    "\n",
    "    def point_k_neighbors(self, new_point_f, new_point_n):\n",
    "        point_k_neighbors_list = []\n",
    "        for point in self.internal_list:\n",
    "            point_name = point[:4]\n",
    "            point_features = point[4:]\n",
    "\n",
    "            dis = euclidean_distance(point_features, new_point_f)\n",
    "            point_name_dis = {'point_name': point_name, 'NN_name': new_point_n, 'distance': dis}\n",
    "            point_k_neighbors_list.append(point_name_dis)\n",
    "        point_k_neighbors_list.sort(key=my_func)\n",
    "        return point_k_neighbors_list[:self.k]"
   ]
  },
  {
   "cell_type": "code",
   "execution_count": 200,
   "metadata": {},
   "outputs": [
    {
     "name": "stdout",
     "output_type": "stream",
     "text": [
      "[[{'point_name': [201.45, 383.78, 15.63, 1.636], 'NN_name': [193.17, 371.13, 22.83, 1.571], 'distance': 124.2014492669067}, {'point_name': [191.63, 281.1, 20.79, 1.545], 'NN_name': [193.17, 371.13, 22.83, 1.571], 'distance': 124.39051410778879}, {'point_name': [228.71, 565.26, 0.88, 1.48], 'NN_name': [193.17, 371.13, 22.83, 1.571], 'distance': 137.46635952115702}], [{'point_name': [235.13, 331.52, 7.26, 1.358], 'NN_name': [331.15, 543.32, 18.86, 1.099], 'distance': 347.77722754660056}, {'point_name': [215.31, 407.03, 1.53, 2.0180000000000002], 'NN_name': [331.15, 543.32, 18.86, 1.099], 'distance': 351.29047809469586}, {'point_name': [225.51, 265.14, 3.39, 1.0659999999999998], 'NN_name': [331.15, 543.32, 18.86, 1.099], 'distance': 360.1360853899537}]]\n"
     ]
    }
   ],
   "source": [
    "p1 = KNN(3)\n",
    "data1 = pd.read_csv(\"Documents/לימודים/תרגיל בית 1-20210420/Hananya3.csv\")\n",
    "the_list1 = data1.iloc[0:, 0:132]\n",
    "points = the_list1.values.tolist()\n",
    "\n",
    "p1.fit(\"Documents/לימודים/תרגיל בית 1-20210420/Hananya1.csv\")\n",
    "print(p1.k_neighbors(points))"
   ]
  },
  {
   "cell_type": "code",
   "execution_count": null,
   "metadata": {},
   "outputs": [],
   "source": []
  }
 ],
 "metadata": {
  "kernelspec": {
   "display_name": "Python 3",
   "language": "python",
   "name": "python3"
  },
  "language_info": {
   "codemirror_mode": {
    "name": "ipython",
    "version": 3
   },
   "file_extension": ".py",
   "mimetype": "text/x-python",
   "name": "python",
   "nbconvert_exporter": "python",
   "pygments_lexer": "ipython3",
   "version": "3.8.3"
  }
 },
 "nbformat": 4,
 "nbformat_minor": 4
}
